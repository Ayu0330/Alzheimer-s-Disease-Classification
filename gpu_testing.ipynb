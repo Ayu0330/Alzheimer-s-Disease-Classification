{
 "cells": [
  {
   "cell_type": "code",
   "execution_count": 1,
   "id": "d9142b76-e3dd-423a-b2e3-0f73e5e72c9b",
   "metadata": {},
   "outputs": [
    {
     "name": "stdout",
     "output_type": "stream",
     "text": [
      "Number of GPUs:  1\n",
      "GPU NAME:  NVIDIA GeForce RTX 3050 Ti Laptop GPU\n"
     ]
    }
   ],
   "source": [
    "import torch\n",
    "print(\"Number of GPUs: \", torch.cuda.device_count())\n",
    "print(\"GPU NAME: \", torch.cuda.get_device_name(0))"
   ]
  },
  {
   "cell_type": "code",
   "execution_count": 2,
   "id": "1746a7d1-e1d6-4d48-9b92-d5f15476363e",
   "metadata": {},
   "outputs": [
    {
     "name": "stdout",
     "output_type": "stream",
     "text": [
      "Is TensorFlow built with GPU support? False\n",
      "Available GPUs: []\n",
      "TensorFlow is not using the GPU.\n"
     ]
    }
   ],
   "source": [
    "import tensorflow as tf\n",
    "\n",
    "# Check if TensorFlow is built with GPU support\n",
    "print(\"Is TensorFlow built with GPU support?\", tf.test.is_built_with_cuda())\n",
    "\n",
    "# List all available GPUs\n",
    "gpus = tf.config.experimental.list_physical_devices('GPU')\n",
    "print(\"Available GPUs:\", gpus)\n",
    "\n",
    "# Check if TensorFlow is using the GPU\n",
    "if gpus:\n",
    "    print(\"TensorFlow is using the GPU.\")\n",
    "else:\n",
    "    print(\"TensorFlow is not using the GPU.\")"
   ]
  },
  {
   "cell_type": "code",
   "execution_count": null,
   "id": "d0278992-4f69-4194-9438-23efac5098af",
   "metadata": {},
   "outputs": [],
   "source": []
  }
 ],
 "metadata": {
  "kernelspec": {
   "display_name": "Python 3 (ipykernel)",
   "language": "python",
   "name": "python3"
  },
  "language_info": {
   "codemirror_mode": {
    "name": "ipython",
    "version": 3
   },
   "file_extension": ".py",
   "mimetype": "text/x-python",
   "name": "python",
   "nbconvert_exporter": "python",
   "pygments_lexer": "ipython3",
   "version": "3.12.2"
  }
 },
 "nbformat": 4,
 "nbformat_minor": 5
}
