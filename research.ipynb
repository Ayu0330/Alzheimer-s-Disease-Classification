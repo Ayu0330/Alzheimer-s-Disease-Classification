{
 "cells": [
  {
   "cell_type": "code",
   "execution_count": 1,
   "id": "3d588ad5-9536-4b2f-abce-e7897181eb0e",
   "metadata": {},
   "outputs": [],
   "source": [
    "import pandas as pd\n",
    "import numpy as np\n",
    "import matplotlib.pyplot as plt"
   ]
  },
  {
   "cell_type": "code",
   "execution_count": 2,
   "id": "44d83418-0662-4faf-a47b-96e510ec71a9",
   "metadata": {},
   "outputs": [],
   "source": [
    "import warnings\n",
    "warnings.filterwarnings('ignore')"
   ]
  },
  {
   "cell_type": "code",
   "execution_count": 3,
   "id": "847a7595-7f8d-4c64-ac0e-18cbb7299db3",
   "metadata": {},
   "outputs": [],
   "source": [
    "import os \n",
    "import cv2 \n",
    "from PIL import Image\n",
    "from tqdm.auto import tqdm \n",
    "import glob as gb "
   ]
  },
  {
   "cell_type": "code",
   "execution_count": 17,
   "id": "112deb0b-4a61-492f-acb5-50fce5f4104c",
   "metadata": {},
   "outputs": [],
   "source": [
    "# !pip3 install opencv-python\n",
    "# pip install tqdm"
   ]
  },
  {
   "cell_type": "code",
   "execution_count": 16,
   "id": "f83c3f69-aee2-4d40-9042-5da5dfa3838f",
   "metadata": {},
   "outputs": [],
   "source": [
    "import torch \n",
    "import torch.nn as nn \n",
    "import torch.nn.functional as F \n",
    "from torch.optim import Adam , lr_scheduler \n",
    "import torchvision \n",
    "from torchvision import datasets \n",
    "import torchvision.transforms as transforms\n",
    "from torchvision.transforms import ToTensor\n",
    "from torch.utils.data import DataLoader , Dataset\n",
    "from torchsummary import summary\n",
    "from torchmetrics import ConfusionMatrix \n",
    "from mlxtend.plotting import plot_confusion_matrix\n",
    "\n",
    "from sklearn.model_selection import train_test_split\n",
    "from sklearn.metrics import accuracy_score , precision_score , recall_score , f1_score"
   ]
  },
  {
   "cell_type": "code",
   "execution_count": 18,
   "id": "cc348d8b-e290-4e50-82d5-baa283ec58ed",
   "metadata": {},
   "outputs": [],
   "source": [
    "# pip install torchvision\n",
    "# !pip3 install torchsummary\n",
    "# !pip3 install torchmetrics\n",
    "# pip install mlxtend"
   ]
  },
  {
   "cell_type": "code",
   "execution_count": 22,
   "id": "25a384f0-ae17-45bf-804e-4be4a8e7d866",
   "metadata": {},
   "outputs": [
    {
     "name": "stdout",
     "output_type": "stream",
     "text": [
      "Collecting numpy==1.21.1Note: you may need to restart the kernel to use updated packages.\n"
     ]
    },
    {
     "name": "stderr",
     "output_type": "stream",
     "text": [
      "ERROR: Exception:\n",
      "Traceback (most recent call last):\n",
      "  File \"C:\\Users\\ayush\\Alzheimer\\env\\Lib\\site-packages\\pip\\_internal\\cli\\base_command.py\", line 180, in exc_logging_wrapper\n",
      "    status = run_func(*args)\n",
      "             ^^^^^^^^^^^^^^^\n",
      "  File \"C:\\Users\\ayush\\Alzheimer\\env\\Lib\\site-packages\\pip\\_internal\\cli\\req_command.py\", line 245, in wrapper\n",
      "    return func(self, options, args)\n",
      "           ^^^^^^^^^^^^^^^^^^^^^^^^^\n",
      "  File \"C:\\Users\\ayush\\Alzheimer\\env\\Lib\\site-packages\\pip\\_internal\\commands\\install.py\", line 377, in run\n",
      "    requirement_set = resolver.resolve(\n",
      "                      ^^^^^^^^^^^^^^^^^\n",
      "  File \"C:\\Users\\ayush\\Alzheimer\\env\\Lib\\site-packages\\pip\\_internal\\resolution\\resolvelib\\resolver.py\", line 95, in resolve\n",
      "    result = self._result = resolver.resolve(\n",
      "                            ^^^^^^^^^^^^^^^^^\n",
      "  File \"C:\\Users\\ayush\\Alzheimer\\env\\Lib\\site-packages\\pip\\_vendor\\resolvelib\\resolvers.py\", line 546, in resolve\n",
      "    state = resolution.resolve(requirements, max_rounds=max_rounds)\n",
      "            ^^^^^^^^^^^^^^^^^^^^^^^^^^^^^^^^^^^^^^^^^^^^^^^^^^^^^^^\n",
      "  File \"C:\\Users\\ayush\\Alzheimer\\env\\Lib\\site-packages\\pip\\_vendor\\resolvelib\\resolvers.py\", line 397, in resolve\n",
      "    self._add_to_criteria(self.state.criteria, r, parent=None)\n",
      "  File \"C:\\Users\\ayush\\Alzheimer\\env\\Lib\\site-packages\\pip\\_vendor\\resolvelib\\resolvers.py\", line 173, in _add_to_criteria\n",
      "    if not criterion.candidates:\n",
      "           ^^^^^^^^^^^^^^^^^^^^\n",
      "  File \"C:\\Users\\ayush\\Alzheimer\\env\\Lib\\site-packages\\pip\\_vendor\\resolvelib\\structs.py\", line 156, in __bool__\n",
      "    return bool(self._sequence)\n",
      "           ^^^^^^^^^^^^^^^^^^^^\n",
      "  File \"C:\\Users\\ayush\\Alzheimer\\env\\Lib\\site-packages\\pip\\_internal\\resolution\\resolvelib\\found_candidates.py\", line 155, in __bool__\n",
      "    return any(self)\n",
      "           ^^^^^^^^^\n",
      "  File \"C:\\Users\\ayush\\Alzheimer\\env\\Lib\\site-packages\\pip\\_internal\\resolution\\resolvelib\\found_candidates.py\", line 143, in <genexpr>\n",
      "    return (c for c in iterator if id(c) not in self._incompatible_ids)\n",
      "           ^^^^^^^^^^^^^^^^^^^^^^^^^^^^^^^^^^^^^^^^^^^^^^^^^^^^^^^^^^^^\n",
      "  File \"C:\\Users\\ayush\\Alzheimer\\env\\Lib\\site-packages\\pip\\_internal\\resolution\\resolvelib\\found_candidates.py\", line 47, in _iter_built\n",
      "    candidate = func()\n",
      "                ^^^^^^\n",
      "  File \"C:\\Users\\ayush\\Alzheimer\\env\\Lib\\site-packages\\pip\\_internal\\resolution\\resolvelib\\factory.py\", line 211, in _make_candidate_from_link\n",
      "    self._link_candidate_cache[link] = LinkCandidate(\n",
      "                                       ^^^^^^^^^^^^^^\n",
      "  File \"C:\\Users\\ayush\\Alzheimer\\env\\Lib\\site-packages\\pip\\_internal\\resolution\\resolvelib\\candidates.py\", line 293, in __init__\n",
      "    super().__init__(\n",
      "  File \"C:\\Users\\ayush\\Alzheimer\\env\\Lib\\site-packages\\pip\\_internal\\resolution\\resolvelib\\candidates.py\", line 156, in __init__\n",
      "    self.dist = self._prepare()\n",
      "                ^^^^^^^^^^^^^^^\n",
      "  File \"C:\\Users\\ayush\\Alzheimer\\env\\Lib\\site-packages\\pip\\_internal\\resolution\\resolvelib\\candidates.py\", line 225, in _prepare\n",
      "    dist = self._prepare_distribution()\n",
      "           ^^^^^^^^^^^^^^^^^^^^^^^^^^^^\n",
      "  File \"C:\\Users\\ayush\\Alzheimer\\env\\Lib\\site-packages\\pip\\_internal\\resolution\\resolvelib\\candidates.py\", line 304, in _prepare_distribution\n",
      "    return preparer.prepare_linked_requirement(self._ireq, parallel_builds=True)\n",
      "           ^^^^^^^^^^^^^^^^^^^^^^^^^^^^^^^^^^^^^^^^^^^^^^^^^^^^^^^^^^^^^^^^^^^^^\n",
      "  File \"C:\\Users\\ayush\\Alzheimer\\env\\Lib\\site-packages\\pip\\_internal\\operations\\prepare.py\", line 525, in prepare_linked_requirement\n",
      "    return self._prepare_linked_requirement(req, parallel_builds)\n",
      "           ^^^^^^^^^^^^^^^^^^^^^^^^^^^^^^^^^^^^^^^^^^^^^^^^^^^^^^\n",
      "  File \"C:\\Users\\ayush\\Alzheimer\\env\\Lib\\site-packages\\pip\\_internal\\operations\\prepare.py\", line 640, in _prepare_linked_requirement\n",
      "    dist = _get_prepared_distribution(\n",
      "           ^^^^^^^^^^^^^^^^^^^^^^^^^^^\n",
      "  File \"C:\\Users\\ayush\\Alzheimer\\env\\Lib\\site-packages\\pip\\_internal\\operations\\prepare.py\", line 71, in _get_prepared_distribution\n",
      "    abstract_dist.prepare_distribution_metadata(\n",
      "  File \"C:\\Users\\ayush\\Alzheimer\\env\\Lib\\site-packages\\pip\\_internal\\distributions\\sdist.py\", line 54, in prepare_distribution_metadata\n",
      "    self._install_build_reqs(finder)\n",
      "  File \"C:\\Users\\ayush\\Alzheimer\\env\\Lib\\site-packages\\pip\\_internal\\distributions\\sdist.py\", line 124, in _install_build_reqs\n",
      "    build_reqs = self._get_build_requires_wheel()\n",
      "                 ^^^^^^^^^^^^^^^^^^^^^^^^^^^^^^^^\n",
      "  File \"C:\\Users\\ayush\\Alzheimer\\env\\Lib\\site-packages\\pip\\_internal\\distributions\\sdist.py\", line 101, in _get_build_requires_wheel\n",
      "    return backend.get_requires_for_build_wheel()\n",
      "           ^^^^^^^^^^^^^^^^^^^^^^^^^^^^^^^^^^^^^^\n",
      "  File \"C:\\Users\\ayush\\Alzheimer\\env\\Lib\\site-packages\\pip\\_internal\\utils\\misc.py\", line 751, in get_requires_for_build_wheel\n",
      "    return super().get_requires_for_build_wheel(config_settings=cs)\n",
      "           ^^^^^^^^^^^^^^^^^^^^^^^^^^^^^^^^^^^^^^^^^^^^^^^^^^^^^^^^\n",
      "  File \"C:\\Users\\ayush\\Alzheimer\\env\\Lib\\site-packages\\pip\\_vendor\\pyproject_hooks\\_impl.py\", line 166, in get_requires_for_build_wheel\n",
      "    return self._call_hook('get_requires_for_build_wheel', {\n",
      "           ^^^^^^^^^^^^^^^^^^^^^^^^^^^^^^^^^^^^^^^^^^^^^^^^^\n",
      "  File \"C:\\Users\\ayush\\Alzheimer\\env\\Lib\\site-packages\\pip\\_vendor\\pyproject_hooks\\_impl.py\", line 321, in _call_hook\n",
      "    raise BackendUnavailable(data.get('traceback', ''))\n",
      "pip._vendor.pyproject_hooks._impl.BackendUnavailable: Traceback (most recent call last):\n",
      "  File \"C:\\Users\\ayush\\Alzheimer\\env\\Lib\\site-packages\\pip\\_vendor\\pyproject_hooks\\_in_process\\_in_process.py\", line 77, in _build_backend\n",
      "    obj = import_module(mod_path)\n",
      "          ^^^^^^^^^^^^^^^^^^^^^^^\n",
      "  File \"C:\\Users\\ayush\\Alzheimer\\env\\Lib\\importlib\\__init__.py\", line 90, in import_module\n",
      "    return _bootstrap._gcd_import(name[level:], package, level)\n",
      "           ^^^^^^^^^^^^^^^^^^^^^^^^^^^^^^^^^^^^^^^^^^^^^^^^^^^^\n",
      "  File \"<frozen importlib._bootstrap>\", line 1387, in _gcd_import\n",
      "  File \"<frozen importlib._bootstrap>\", line 1360, in _find_and_load\n",
      "  File \"<frozen importlib._bootstrap>\", line 1310, in _find_and_load_unlocked\n",
      "  File \"<frozen importlib._bootstrap>\", line 488, in _call_with_frames_removed\n",
      "  File \"<frozen importlib._bootstrap>\", line 1387, in _gcd_import\n",
      "  File \"<frozen importlib._bootstrap>\", line 1360, in _find_and_load\n",
      "  File \"<frozen importlib._bootstrap>\", line 1331, in _find_and_load_unlocked\n",
      "  File \"<frozen importlib._bootstrap>\", line 935, in _load_unlocked\n",
      "  File \"<frozen importlib._bootstrap_external>\", line 995, in exec_module\n",
      "  File \"<frozen importlib._bootstrap>\", line 488, in _call_with_frames_removed\n",
      "  File \"C:\\Users\\ayush\\AppData\\Local\\Temp\\pip-build-env-m1_j3dx5\\overlay\\Lib\\site-packages\\setuptools\\__init__.py\", line 18, in <module>\n",
      "    from setuptools.extern.six import PY3, string_types\n",
      "ModuleNotFoundError: No module named 'setuptools.extern.six'\n",
      "\n"
     ]
    },
    {
     "name": "stdout",
     "output_type": "stream",
     "text": [
      "\n",
      "  Downloading numpy-1.21.1.zip (10.3 MB)\n",
      "     ---------------------------------------- 0.0/10.3 MB ? eta -:--:--\n",
      "     --------------------------------------- 0.0/10.3 MB 330.3 kB/s eta 0:00:31\n",
      "     - -------------------------------------- 0.4/10.3 MB 4.5 MB/s eta 0:00:03\n",
      "     ----- ---------------------------------- 1.3/10.3 MB 10.3 MB/s eta 0:00:01\n",
      "     ------- -------------------------------- 1.8/10.3 MB 10.6 MB/s eta 0:00:01\n",
      "     -------- ------------------------------- 2.1/10.3 MB 10.3 MB/s eta 0:00:01\n",
      "     -------- ------------------------------- 2.1/10.3 MB 10.3 MB/s eta 0:00:01\n",
      "     -------- ------------------------------- 2.1/10.3 MB 10.3 MB/s eta 0:00:01\n",
      "     -------- ------------------------------- 2.1/10.3 MB 10.3 MB/s eta 0:00:01\n",
      "     -------- ------------------------------- 2.1/10.3 MB 5.2 MB/s eta 0:00:02\n",
      "     --------- ------------------------------ 2.5/10.3 MB 5.5 MB/s eta 0:00:02\n",
      "     ------------ --------------------------- 3.1/10.3 MB 6.2 MB/s eta 0:00:02\n",
      "     --------------- ------------------------ 3.9/10.3 MB 7.1 MB/s eta 0:00:01\n",
      "     ---------------- ----------------------- 4.3/10.3 MB 7.2 MB/s eta 0:00:01\n",
      "     ----------------- ---------------------- 4.5/10.3 MB 7.0 MB/s eta 0:00:01\n",
      "     ------------------ --------------------- 4.8/10.3 MB 6.9 MB/s eta 0:00:01\n",
      "     ------------------- -------------------- 5.0/10.3 MB 6.8 MB/s eta 0:00:01\n",
      "     -------------------- ------------------- 5.3/10.3 MB 6.8 MB/s eta 0:00:01\n",
      "     --------------------- ------------------ 5.6/10.3 MB 6.7 MB/s eta 0:00:01\n",
      "     ---------------------- ----------------- 5.8/10.3 MB 6.6 MB/s eta 0:00:01\n",
      "     ----------------------- ---------------- 6.1/10.3 MB 6.6 MB/s eta 0:00:01\n",
      "     ------------------------ --------------- 6.3/10.3 MB 6.5 MB/s eta 0:00:01\n",
      "     ------------------------- -------------- 6.5/10.3 MB 6.4 MB/s eta 0:00:01\n",
      "     -------------------------- ------------- 6.8/10.3 MB 6.4 MB/s eta 0:00:01\n",
      "     --------------------------- ------------ 7.1/10.3 MB 6.4 MB/s eta 0:00:01\n",
      "     ----------------------------- ---------- 7.5/10.3 MB 6.5 MB/s eta 0:00:01\n",
      "     ------------------------------ --------- 7.8/10.3 MB 6.5 MB/s eta 0:00:01\n",
      "     ------------------------------- -------- 8.1/10.3 MB 6.5 MB/s eta 0:00:01\n",
      "     -------------------------------- ------- 8.3/10.3 MB 6.4 MB/s eta 0:00:01\n",
      "     --------------------------------- ------ 8.5/10.3 MB 6.3 MB/s eta 0:00:01\n",
      "     --------------------------------- ------ 8.7/10.3 MB 6.2 MB/s eta 0:00:01\n",
      "     ---------------------------------- ----- 8.9/10.3 MB 6.2 MB/s eta 0:00:01\n",
      "     ------------------------------------ --- 9.2/10.3 MB 6.2 MB/s eta 0:00:01\n",
      "     ------------------------------------- -- 9.6/10.3 MB 6.3 MB/s eta 0:00:01\n",
      "     -------------------------------------- - 10.0/10.3 MB 6.3 MB/s eta 0:00:01\n",
      "     ---------------------------------------  10.2/10.3 MB 6.3 MB/s eta 0:00:01\n",
      "     ---------------------------------------- 10.3/10.3 MB 6.4 MB/s eta 0:00:00\n",
      "  Installing build dependencies: started\n",
      "  Installing build dependencies: finished with status 'done'\n",
      "  Getting requirements to build wheel: started\n",
      "  Getting requirements to build wheel: finished with status 'done'\n"
     ]
    }
   ],
   "source": [
    "#pip install numpy==1.21.1"
   ]
  },
  {
   "cell_type": "code",
   "execution_count": 25,
   "id": "850be582-aac4-4f7a-8fbf-b5d816603842",
   "metadata": {},
   "outputs": [
    {
     "name": "stdout",
     "output_type": "stream",
     "text": [
      "Loaded 33984 images with labels\n"
     ]
    }
   ],
   "source": [
    "# def load_dataset(data_dir):\n",
    "#     images = []\n",
    "#     labels = []\n",
    "#     label_names = os.listdir(data_dir)\n",
    "    \n",
    "#     for label in label_names:\n",
    "#         label_dir = os.path.join(data_dir, label)\n",
    "#         if os.path.isdir(label_dir):\n",
    "#             for img_name in os.listdir(label_dir):\n",
    "#                 img_path = os.path.join(label_dir, img_name)\n",
    "#                 # Read the image (use cv2.imread, PIL.Image.open, etc.)\n",
    "#                 image = cv2.imread(img_path)\n",
    "#                 if image is not None:\n",
    "#                     images.append(image)\n",
    "#                     labels.append(label)\n",
    "    \n",
    "#     #return np.array(images), np.array(labels)\n",
    "#     return images, labels\n",
    "\n",
    "# # Specify the directory where your dataset is located\n",
    "# data_dir = 'AugmentedAlzheimerDataset'\n",
    "\n",
    "# # Load the dataset\n",
    "# images, labels = load_dataset(data_dir)\n",
    "\n",
    "# print(f\"Loaded {len(images)} images with labels\")"
   ]
  },
  {
   "cell_type": "code",
   "execution_count": 38,
   "id": "de25032d-58c4-4c6f-ba97-c8193622fe80",
   "metadata": {},
   "outputs": [],
   "source": [
    "# images = pd.DataFrame(images).to_numpy(dtype = float32) shows an error i am not able to rectify"
   ]
  },
  {
   "cell_type": "code",
   "execution_count": 39,
   "id": "f363a945-b1e2-4922-b0c5-0a14f9736212",
   "metadata": {},
   "outputs": [
    {
     "name": "stdout",
     "output_type": "stream",
     "text": [
      "Loaded 33984 images with labels\n",
      "Images shape: (33984, 128, 128, 3)\n",
      "Labels shape: (33984,)\n"
     ]
    }
   ],
   "source": [
    "def load_dataset(data_dir, image_size=(128, 128)):\n",
    "    images = []\n",
    "    labels = []\n",
    "    label_names = os.listdir(data_dir)\n",
    "    \n",
    "    for label in label_names:\n",
    "        label_dir = os.path.join(data_dir, label)\n",
    "        if os.path.isdir(label_dir):\n",
    "            for img_name in os.listdir(label_dir):\n",
    "                img_path = os.path.join(label_dir, img_name)\n",
    "                # Read the image\n",
    "                image = cv2.imread(img_path)\n",
    "                if image is not None:\n",
    "                    # Resize the image to the fixed size\n",
    "                    image = cv2.resize(image, image_size)\n",
    "                    images.append(image)\n",
    "                    labels.append(label)\n",
    "    \n",
    "    # Convert lists to NumPy arrays\n",
    "    images = np.array(images)\n",
    "    labels = np.array(labels)\n",
    "    \n",
    "    return images, labels\n",
    "\n",
    "# Specify the directory where your dataset is located\n",
    "data_dir = 'AugmentedAlzheimerDataset'\n",
    "\n",
    "# Load the dataset\n",
    "images, labels = load_dataset(data_dir)\n",
    "\n",
    "print(f\"Loaded {len(images)} images with labels\")\n",
    "print(f\"Images shape: {images.shape}\")\n",
    "print(f\"Labels shape: {labels.shape}\")"
   ]
  },
  {
   "cell_type": "code",
   "execution_count": 40,
   "id": "03997a9a-a54c-4785-8fa8-f2b655c7662f",
   "metadata": {},
   "outputs": [
    {
     "data": {
      "text/plain": [
       "array([[[7, 7, 7],\n",
       "        [7, 7, 7],\n",
       "        [7, 7, 7],\n",
       "        ...,\n",
       "        [7, 7, 7],\n",
       "        [7, 7, 7],\n",
       "        [7, 7, 7]],\n",
       "\n",
       "       [[7, 7, 7],\n",
       "        [7, 7, 7],\n",
       "        [7, 7, 7],\n",
       "        ...,\n",
       "        [7, 7, 7],\n",
       "        [7, 7, 7],\n",
       "        [7, 7, 7]],\n",
       "\n",
       "       [[7, 7, 7],\n",
       "        [7, 7, 7],\n",
       "        [7, 7, 7],\n",
       "        ...,\n",
       "        [7, 7, 7],\n",
       "        [7, 7, 7],\n",
       "        [7, 7, 7]],\n",
       "\n",
       "       ...,\n",
       "\n",
       "       [[7, 7, 7],\n",
       "        [7, 7, 7],\n",
       "        [7, 7, 7],\n",
       "        ...,\n",
       "        [7, 7, 7],\n",
       "        [7, 7, 7],\n",
       "        [7, 7, 7]],\n",
       "\n",
       "       [[7, 7, 7],\n",
       "        [7, 7, 7],\n",
       "        [7, 7, 7],\n",
       "        ...,\n",
       "        [7, 7, 7],\n",
       "        [7, 7, 7],\n",
       "        [7, 7, 7]],\n",
       "\n",
       "       [[7, 7, 7],\n",
       "        [7, 7, 7],\n",
       "        [7, 7, 7],\n",
       "        ...,\n",
       "        [7, 7, 7],\n",
       "        [7, 7, 7],\n",
       "        [7, 7, 7]]], dtype=uint8)"
      ]
     },
     "execution_count": 40,
     "metadata": {},
     "output_type": "execute_result"
    }
   ],
   "source": [
    "images[0]"
   ]
  },
  {
   "cell_type": "code",
   "execution_count": 41,
   "id": "bdce9e0c-c3f0-4c75-aeb7-a97f426ef68a",
   "metadata": {},
   "outputs": [
    {
     "data": {
      "text/plain": [
       "'MildDemented'"
      ]
     },
     "execution_count": 41,
     "metadata": {},
     "output_type": "execute_result"
    }
   ],
   "source": [
    "labels[0]"
   ]
  },
  {
   "cell_type": "code",
   "execution_count": 42,
   "id": "22d77024-532c-4007-97b2-9bdc0aafc006",
   "metadata": {},
   "outputs": [],
   "source": [
    "class_labels = np.unique(labels)"
   ]
  },
  {
   "cell_type": "code",
   "execution_count": 43,
   "id": "10c1646b-642c-4501-a83a-7329b166dd6e",
   "metadata": {},
   "outputs": [
    {
     "data": {
      "text/plain": [
       "array(['MildDemented', 'ModerateDemented', 'NonDemented',\n",
       "       'VeryMildDemented'], dtype='<U16')"
      ]
     },
     "execution_count": 43,
     "metadata": {},
     "output_type": "execute_result"
    }
   ],
   "source": [
    "class_labels"
   ]
  },
  {
   "cell_type": "code",
   "execution_count": null,
   "id": "89ec3c5b-624e-40a8-b500-e81d40989d1f",
   "metadata": {},
   "outputs": [],
   "source": []
  }
 ],
 "metadata": {
  "kernelspec": {
   "display_name": "Python 3 (ipykernel)",
   "language": "python",
   "name": "python3"
  },
  "language_info": {
   "codemirror_mode": {
    "name": "ipython",
    "version": 3
   },
   "file_extension": ".py",
   "mimetype": "text/x-python",
   "name": "python",
   "nbconvert_exporter": "python",
   "pygments_lexer": "ipython3",
   "version": "3.12.2"
  }
 },
 "nbformat": 4,
 "nbformat_minor": 5
}
